{
 "cells": [
  {
   "cell_type": "code",
   "execution_count": 6,
   "metadata": {},
   "outputs": [],
   "source": [
    "import pandas as pd\n",
    "import numpy as np\n",
    "import matplotlib.pyplot as plt"
   ]
  },
  {
   "cell_type": "markdown",
   "metadata": {},
   "source": [
    "Possibility to test the TF-IDF algorithm in a simple form"
   ]
  },
  {
   "cell_type": "code",
   "execution_count": 7,
   "metadata": {},
   "outputs": [],
   "source": [
    "lego_sets = pd.read_csv('../data/lego_sets.csv')\n",
    "lego_sets.drop_duplicates(subset=['prod_id'], inplace=True)\n",
    "lego_sets = lego_sets.reset_index().drop('index', axis=1)\n"
   ]
  },
  {
   "cell_type": "code",
   "execution_count": 8,
   "metadata": {},
   "outputs": [],
   "source": [
    "lego_sets['prod_id'] = lego_sets['prod_id'].astype(int)"
   ]
  },
  {
   "cell_type": "code",
   "execution_count": 9,
   "metadata": {},
   "outputs": [
    {
     "data": {
      "text/html": [
       "<div>\n",
       "<style scoped>\n",
       "    .dataframe tbody tr th:only-of-type {\n",
       "        vertical-align: middle;\n",
       "    }\n",
       "\n",
       "    .dataframe tbody tr th {\n",
       "        vertical-align: top;\n",
       "    }\n",
       "\n",
       "    .dataframe thead th {\n",
       "        text-align: right;\n",
       "    }\n",
       "</style>\n",
       "<table border=\"1\" class=\"dataframe\">\n",
       "  <thead>\n",
       "    <tr style=\"text-align: right;\">\n",
       "      <th></th>\n",
       "      <th>prod_id</th>\n",
       "      <th>set_name</th>\n",
       "      <th>prod_long_desc</th>\n",
       "      <th>list_price</th>\n",
       "      <th>prod_desc</th>\n",
       "      <th>num_reviews</th>\n",
       "      <th>ages</th>\n",
       "      <th>country</th>\n",
       "      <th>star_rating</th>\n",
       "      <th>theme_name</th>\n",
       "    </tr>\n",
       "  </thead>\n",
       "  <tbody>\n",
       "    <tr>\n",
       "      <th>0</th>\n",
       "      <td>75823</td>\n",
       "      <td>Bird Island Egg Heist</td>\n",
       "      <td>Use the staircase catapult to launch Red into ...</td>\n",
       "      <td>29.99</td>\n",
       "      <td>Catapult into action and take back the eggs fr...</td>\n",
       "      <td>2.0</td>\n",
       "      <td>6-12</td>\n",
       "      <td>US</td>\n",
       "      <td>4.5</td>\n",
       "      <td>Angry Birds™</td>\n",
       "    </tr>\n",
       "    <tr>\n",
       "      <th>1</th>\n",
       "      <td>75822</td>\n",
       "      <td>Piggy Plane Attack</td>\n",
       "      <td>Pilot Pig has taken off from Bird Island with ...</td>\n",
       "      <td>19.99</td>\n",
       "      <td>Launch a flying attack and rescue the eggs fro...</td>\n",
       "      <td>2.0</td>\n",
       "      <td>6-12</td>\n",
       "      <td>US</td>\n",
       "      <td>5.0</td>\n",
       "      <td>Angry Birds™</td>\n",
       "    </tr>\n",
       "  </tbody>\n",
       "</table>\n",
       "</div>"
      ],
      "text/plain": [
       "   prod_id               set_name  \\\n",
       "0    75823  Bird Island Egg Heist   \n",
       "1    75822     Piggy Plane Attack   \n",
       "\n",
       "                                      prod_long_desc  list_price  \\\n",
       "0  Use the staircase catapult to launch Red into ...       29.99   \n",
       "1  Pilot Pig has taken off from Bird Island with ...       19.99   \n",
       "\n",
       "                                           prod_desc  num_reviews  ages  \\\n",
       "0  Catapult into action and take back the eggs fr...          2.0  6-12   \n",
       "1  Launch a flying attack and rescue the eggs fro...          2.0  6-12   \n",
       "\n",
       "  country  star_rating    theme_name  \n",
       "0      US          4.5  Angry Birds™  \n",
       "1      US          5.0  Angry Birds™  "
      ]
     },
     "execution_count": 9,
     "metadata": {},
     "output_type": "execute_result"
    }
   ],
   "source": [
    "lego_df = lego_sets[['prod_id','set_name','prod_long_desc','list_price','prod_desc','num_reviews','ages','country','star_rating','theme_name']]\n",
    "lego_df.head(2)"
   ]
  },
  {
   "cell_type": "markdown",
   "metadata": {},
   "source": [
    "Based on a similarity analysis based only on the product description, which can and should be expanded further:\n",
    "\n",
    "- Location\n",
    "- Time\n",
    "- Customer age (child)\n",
    "- Customer age (buyer)\n",
    "-Interests\n",
    "-Activity\n",
    "-Past purchasing behavior\n",
    "-User group purchasing behavior\n",
    "-Regional purchasing behavior\n",
    "-Trend predictions\n",
    "-Similarities in price, dimension, complexity, etc."
   ]
  },
  {
   "cell_type": "code",
   "execution_count": 10,
   "metadata": {},
   "outputs": [
    {
     "name": "stderr",
     "output_type": "stream",
     "text": [
      "C:\\Users\\BMidd\\AppData\\Local\\Temp\\ipykernel_11740\\1300183478.py:4: SettingWithCopyWarning: \n",
      "A value is trying to be set on a copy of a slice from a DataFrame.\n",
      "Try using .loc[row_indexer,col_indexer] = value instead\n",
      "\n",
      "See the caveats in the documentation: https://pandas.pydata.org/pandas-docs/stable/user_guide/indexing.html#returning-a-view-versus-a-copy\n",
      "  lego_df['prod_long_desc'] = lego_df['prod_long_desc'].fillna(\"\")\n"
     ]
    }
   ],
   "source": [
    "from sklearn.feature_extraction.text import TfidfVectorizer\n",
    "\n",
    "vectorizer = TfidfVectorizer(stop_words = \"english\", min_df=2) # pick words that apear in at least two documents (aka. movie descriptions)\n",
    "lego_df['prod_long_desc'] = lego_df['prod_long_desc'].fillna(\"\")\n",
    "\n",
    "TF_IDF_matrix = vectorizer.fit_transform(lego_df['prod_long_desc'])"
   ]
  },
  {
   "cell_type": "code",
   "execution_count": 11,
   "metadata": {},
   "outputs": [
    {
     "data": {
      "text/plain": [
       "(744, 3756)"
      ]
     },
     "execution_count": 11,
     "metadata": {},
     "output_type": "execute_result"
    }
   ],
   "source": [
    "TF_IDF_matrix.shape"
   ]
  },
  {
   "cell_type": "code",
   "execution_count": 12,
   "metadata": {},
   "outputs": [
    {
     "data": {
      "text/html": [
       "<div>\n",
       "<style scoped>\n",
       "    .dataframe tbody tr th:only-of-type {\n",
       "        vertical-align: middle;\n",
       "    }\n",
       "\n",
       "    .dataframe tbody tr th {\n",
       "        vertical-align: top;\n",
       "    }\n",
       "\n",
       "    .dataframe thead th {\n",
       "        text-align: right;\n",
       "    }\n",
       "</style>\n",
       "<table border=\"1\" class=\"dataframe\">\n",
       "  <thead>\n",
       "    <tr style=\"text-align: right;\">\n",
       "      <th></th>\n",
       "      <th>prod_id</th>\n",
       "      <th>set_name</th>\n",
       "      <th>prod_long_desc</th>\n",
       "      <th>list_price</th>\n",
       "      <th>prod_desc</th>\n",
       "      <th>num_reviews</th>\n",
       "      <th>ages</th>\n",
       "      <th>country</th>\n",
       "      <th>star_rating</th>\n",
       "      <th>theme_name</th>\n",
       "    </tr>\n",
       "  </thead>\n",
       "  <tbody>\n",
       "    <tr>\n",
       "      <th>610</th>\n",
       "      <td>75168</td>\n",
       "      <td>Yoda's Jedi Starfighter™</td>\n",
       "      <td>Add a classic ship to your LEGO® Star Wars col...</td>\n",
       "      <td>24.99</td>\n",
       "      <td>Journey to the stars aboard Yoda’s starship!</td>\n",
       "      <td>37.0</td>\n",
       "      <td>8-12</td>\n",
       "      <td>US</td>\n",
       "      <td>4.5</td>\n",
       "      <td>Star Wars™</td>\n",
       "    </tr>\n",
       "    <tr>\n",
       "      <th>581</th>\n",
       "      <td>75206</td>\n",
       "      <td>Jedi™ and Clone Troopers™ Battle Pack</td>\n",
       "      <td>Command your own LEGO® Star Wars Jedi &amp; Clone ...</td>\n",
       "      <td>14.99</td>\n",
       "      <td>Take on the Separatists with the Jedi and Clon...</td>\n",
       "      <td>3.0</td>\n",
       "      <td>6-12</td>\n",
       "      <td>US</td>\n",
       "      <td>4.0</td>\n",
       "      <td>Star Wars™</td>\n",
       "    </tr>\n",
       "  </tbody>\n",
       "</table>\n",
       "</div>"
      ],
      "text/plain": [
       "     prod_id                               set_name  \\\n",
       "610    75168               Yoda's Jedi Starfighter™   \n",
       "581    75206  Jedi™ and Clone Troopers™ Battle Pack   \n",
       "\n",
       "                                        prod_long_desc  list_price  \\\n",
       "610  Add a classic ship to your LEGO® Star Wars col...       24.99   \n",
       "581  Command your own LEGO® Star Wars Jedi & Clone ...       14.99   \n",
       "\n",
       "                                             prod_desc  num_reviews  ages  \\\n",
       "610       Journey to the stars aboard Yoda’s starship!         37.0  8-12   \n",
       "581  Take on the Separatists with the Jedi and Clon...          3.0  6-12   \n",
       "\n",
       "    country  star_rating  theme_name  \n",
       "610      US          4.5  Star Wars™  \n",
       "581      US          4.0  Star Wars™  "
      ]
     },
     "execution_count": 12,
     "metadata": {},
     "output_type": "execute_result"
    }
   ],
   "source": [
    "lego_df[lego_df['set_name'].str.contains('Jedi', case= False ,na=False)].sample(2)"
   ]
  },
  {
   "cell_type": "code",
   "execution_count": 13,
   "metadata": {},
   "outputs": [
    {
     "name": "stdout",
     "output_type": "stream",
     "text": [
      "Similarity: [[0.73018903]]\n"
     ]
    }
   ],
   "source": [
    "from sklearn.metrics.pairwise import cosine_similarity\n",
    "\n",
    "product1 = TF_IDF_matrix[(lego_df['prod_id'] == 41609).values,]\n",
    "product2 = TF_IDF_matrix[(lego_df['prod_id'] == 41608).values,]\n",
    "\n",
    "print(\"Similarity:\", cosine_similarity(product1, product2)) # Notice the result is a 2D 1X1 array, so to grab\n",
    "                                                          # the number we will need to index"
   ]
  },
  {
   "cell_type": "code",
   "execution_count": 14,
   "metadata": {},
   "outputs": [],
   "source": [
    "from sklearn.metrics.pairwise import cosine_similarity\n",
    "similarities = cosine_similarity(TF_IDF_matrix, dense_output=False)"
   ]
  },
  {
   "cell_type": "code",
   "execution_count": 15,
   "metadata": {},
   "outputs": [
    {
     "data": {
      "text/plain": [
       "(744, 744)"
      ]
     },
     "execution_count": 15,
     "metadata": {},
     "output_type": "execute_result"
    }
   ],
   "source": [
    "similarities.shape"
   ]
  },
  {
   "cell_type": "code",
   "execution_count": 16,
   "metadata": {},
   "outputs": [],
   "source": [
    "def content_recommender(set_name, products, similarities, vote_threshold=10) :\n",
    "\n",
    "    # Get the movie by the id\n",
    "    movie_index = products[products['set_name'] == set_name].index\n",
    "\n",
    "    # Create a dataframe with the set_names\n",
    "    sim_df = pd.DataFrame(\n",
    "        {'set_name': products['set_name'],\n",
    "         'prod_id': products['prod_id'],\n",
    "         'similarity': np.array(similarities[movie_index, :].todense()).squeeze(),\n",
    "         'num_reviews': products['num_reviews']\n",
    "        })\n",
    "\n",
    "    # Get the top 10 products with > 10 votes\n",
    "    top_products = sim_df[sim_df['num_reviews'] > vote_threshold].sort_values(by='similarity', ascending=False).head(10)\n",
    "\n",
    "    return top_products"
   ]
  },
  {
   "cell_type": "code",
   "execution_count": 17,
   "metadata": {},
   "outputs": [
    {
     "data": {
      "text/html": [
       "<div>\n",
       "<style scoped>\n",
       "    .dataframe tbody tr th:only-of-type {\n",
       "        vertical-align: middle;\n",
       "    }\n",
       "\n",
       "    .dataframe tbody tr th {\n",
       "        vertical-align: top;\n",
       "    }\n",
       "\n",
       "    .dataframe thead th {\n",
       "        text-align: right;\n",
       "    }\n",
       "</style>\n",
       "<table border=\"1\" class=\"dataframe\">\n",
       "  <thead>\n",
       "    <tr style=\"text-align: right;\">\n",
       "      <th></th>\n",
       "      <th>set_name</th>\n",
       "      <th>prod_id</th>\n",
       "      <th>similarity</th>\n",
       "      <th>num_reviews</th>\n",
       "    </tr>\n",
       "  </thead>\n",
       "  <tbody>\n",
       "    <tr>\n",
       "      <th>629</th>\n",
       "      <td>Jedi Starfighter™ With Hyperdrive</td>\n",
       "      <td>75191</td>\n",
       "      <td>1.000000</td>\n",
       "      <td>15.0</td>\n",
       "    </tr>\n",
       "    <tr>\n",
       "      <th>647</th>\n",
       "      <td>The Phantom</td>\n",
       "      <td>75170</td>\n",
       "      <td>0.259550</td>\n",
       "      <td>25.0</td>\n",
       "    </tr>\n",
       "    <tr>\n",
       "      <th>610</th>\n",
       "      <td>Yoda's Jedi Starfighter™</td>\n",
       "      <td>75168</td>\n",
       "      <td>0.251890</td>\n",
       "      <td>37.0</td>\n",
       "    </tr>\n",
       "    <tr>\n",
       "      <th>597</th>\n",
       "      <td>Y-Wing Starfighter™</td>\n",
       "      <td>75172</td>\n",
       "      <td>0.242695</td>\n",
       "      <td>51.0</td>\n",
       "    </tr>\n",
       "    <tr>\n",
       "      <th>593</th>\n",
       "      <td>Poe's X-Wing Fighter™</td>\n",
       "      <td>75102</td>\n",
       "      <td>0.227475</td>\n",
       "      <td>71.0</td>\n",
       "    </tr>\n",
       "    <tr>\n",
       "      <th>620</th>\n",
       "      <td>Tatooine™ Battle Pack</td>\n",
       "      <td>75198</td>\n",
       "      <td>0.213069</td>\n",
       "      <td>14.0</td>\n",
       "    </tr>\n",
       "    <tr>\n",
       "      <th>612</th>\n",
       "      <td>Duel on Naboo™</td>\n",
       "      <td>75169</td>\n",
       "      <td>0.197085</td>\n",
       "      <td>32.0</td>\n",
       "    </tr>\n",
       "    <tr>\n",
       "      <th>740</th>\n",
       "      <td>A-Wing Starfighter™</td>\n",
       "      <td>75175</td>\n",
       "      <td>0.181310</td>\n",
       "      <td>24.0</td>\n",
       "    </tr>\n",
       "    <tr>\n",
       "      <th>587</th>\n",
       "      <td>Resistance Bomber</td>\n",
       "      <td>75188</td>\n",
       "      <td>0.157000</td>\n",
       "      <td>23.0</td>\n",
       "    </tr>\n",
       "    <tr>\n",
       "      <th>583</th>\n",
       "      <td>Death Star™</td>\n",
       "      <td>75159</td>\n",
       "      <td>0.156804</td>\n",
       "      <td>84.0</td>\n",
       "    </tr>\n",
       "  </tbody>\n",
       "</table>\n",
       "</div>"
      ],
      "text/plain": [
       "                              set_name  prod_id  similarity  num_reviews\n",
       "629  Jedi Starfighter™ With Hyperdrive    75191    1.000000         15.0\n",
       "647                        The Phantom    75170    0.259550         25.0\n",
       "610           Yoda's Jedi Starfighter™    75168    0.251890         37.0\n",
       "597                Y-Wing Starfighter™    75172    0.242695         51.0\n",
       "593              Poe's X-Wing Fighter™    75102    0.227475         71.0\n",
       "620              Tatooine™ Battle Pack    75198    0.213069         14.0\n",
       "612                     Duel on Naboo™    75169    0.197085         32.0\n",
       "740                A-Wing Starfighter™    75175    0.181310         24.0\n",
       "587                  Resistance Bomber    75188    0.157000         23.0\n",
       "583                        Death Star™    75159    0.156804         84.0"
      ]
     },
     "execution_count": 17,
     "metadata": {},
     "output_type": "execute_result"
    }
   ],
   "source": [
    "similar_movies = content_recommender('Jedi Starfighter™ With Hyperdrive', lego_df, similarities, vote_threshold=10)\n",
    "similar_movies.head(10)"
   ]
  },
  {
   "cell_type": "markdown",
   "metadata": {},
   "source": [
    "The simple algorithm displays more products than the current Gift Shop, and also allows one category, Star Wars, to be selected."
   ]
  }
 ],
 "metadata": {
  "kernelspec": {
   "display_name": "bigdata_ml",
   "language": "python",
   "name": "python3"
  },
  "language_info": {
   "codemirror_mode": {
    "name": "ipython",
    "version": 3
   },
   "file_extension": ".py",
   "mimetype": "text/x-python",
   "name": "python",
   "nbconvert_exporter": "python",
   "pygments_lexer": "ipython3",
   "version": "3.8.19"
  }
 },
 "nbformat": 4,
 "nbformat_minor": 2
}
