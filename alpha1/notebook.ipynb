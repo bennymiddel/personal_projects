{
 "cells": [
  {
   "cell_type": "code",
   "execution_count": 1,
   "metadata": {},
   "outputs": [],
   "source": [
    "\n",
    "import pandas as pd\n",
    "import numpy as np\n",
    "import matplotlib.pyplot as plt\n",
    "import seaborn as sns\n",
    "from scipy import stats\n",
    "from scipy.stats import norm\n",
    "from scipy.stats import pearsonr\n",
    "import statsmodels.api as sm\n",
    "import statsmodels.regression.linear_model as linear_model\n",
    "from statsmodels.stats.outliers_influence import variance_inflation_factor\n",
    "\n"
   ]
  },
  {
   "cell_type": "code",
   "execution_count": 85,
   "metadata": {},
   "outputs": [
    {
     "name": "stdout",
     "output_type": "stream",
     "text": [
      "<class 'pandas.core.frame.DataFrame'>\n",
      "RangeIndex: 2287 entries, 0 to 2286\n",
      "Data columns (total 23 columns):\n",
      " #   Column                                                                                                                                Non-Null Count  Dtype \n",
      "---  ------                                                                                                                                --------------  ----- \n",
      " 0   MaStR-Nr. der Stromerzeugungseinheit                                                                                                  2287 non-null   object\n",
      " 1   Anlagenbetreiber                                                                                                                      2025 non-null   object\n",
      " 2   Anzeige-Name der Stromerzeugungseinheit                                                                                               2120 non-null   object\n",
      " 3   PLZ der Einheit                                                                                                                       2122 non-null   object\n",
      " 4   Ort der Einheit                                                                                                                       2123 non-null   object\n",
      " 5   Straße der Einheit                                                                                                                    1954 non-null   object\n",
      " 6   Hausnummer der Einheit                                                                                                                1790 non-null   object\n",
      " 7   Bundesland der Einheit                                                                                                                2287 non-null   object\n",
      " 8   Datum der erstmaligen Inbetriebnahme der Einheit                                                                                      2122 non-null   object\n",
      " 9   Datum der endgültigen Stilllegung der Einheit (Datum/Jahr)                                                                            262 non-null    object\n",
      " 10  Kraftwerksstatus der Einheit                                                                                                          2287 non-null   object\n",
      " 11  Energieträger                                                                                                                         2287 non-null   object\n",
      " 12  Hauptbrennstoff                                                                                                                       1464 non-null   object\n",
      " 13  Auswertung Energieträger                                                                                                              2287 non-null   object\n",
      " 14  Wärmeauskopplung (KWK)\n",
      "(ja/nein)                                                                                                      2123 non-null   object\n",
      " 15  Ist die Stromerzeugungseinheit ein Bestandteil eines Grenzkraftwerkes?                                                                1862 non-null   object\n",
      " 16  Bruttoleistung in MW                                                                                                                  2168 non-null   object\n",
      " 17  Nettonennleistung (elektrische Wirkleistung) in MW                                                                                    2284 non-null   object\n",
      " 18  Ist die Stromerzeugungseinheit ein Bestandteil eines Grenzkraftwerkes?: ja \n",
      "Nettonennleistung der Einspeisung in ein deutsches Netz:  64 non-null     object\n",
      " 19  Technologie der Stromerzeugung                                                                                                        1481 non-null   object\n",
      " 20  Volleinspeisung oder Teileinspeisung?                                                                                                 1965 non-null   object\n",
      " 21  Anschlussnetzbetreiber                                                                                                                2044 non-null   object\n",
      " 22  Spannungsebene                                                                                                                        2104 non-null   object\n",
      "dtypes: object(23)\n",
      "memory usage: 411.1+ KB\n"
     ]
    }
   ],
   "source": [
    "power_stations_raw = pd.read_csv('Data/power_stations_clean.csv', delimiter=';', encoding='latin1' )\n",
    "\n",
    "power_stations_raw.info()\n"
   ]
  }
 ],
 "metadata": {
  "kernelspec": {
   "display_name": "base",
   "language": "python",
   "name": "python3"
  },
  "language_info": {
   "codemirror_mode": {
    "name": "ipython",
    "version": 3
   },
   "file_extension": ".py",
   "mimetype": "text/x-python",
   "name": "python",
   "nbconvert_exporter": "python",
   "pygments_lexer": "ipython3",
   "version": "3.11.7"
  }
 },
 "nbformat": 4,
 "nbformat_minor": 2
}
